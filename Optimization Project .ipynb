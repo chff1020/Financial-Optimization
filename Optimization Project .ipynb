{
 "cells": [
  {
   "cell_type": "markdown",
   "metadata": {},
   "source": [
    "# Portfolio Optimization\n",
    "\n",
    "This project mainly compares the portfolio return under rebalance method and buy and hold method. The portfolio is constructed using Markowitz portfolio model with diversification constraints.\n",
    "\n",
    "Markowitz(1952) proved that the concept of risk is related not only with diversification, but also with direction and degree of the relationship between securities in the market. His theory called Portfolio Optimization based on average variance is being perceived as a foundation of the modern theory.\n",
    "\n",
    "The portfolio consists of 40 stocks in the SSE 180 introduced by Shanghai Stock Exchange(SSE). The 40 stocks are selected based on historical performance and sector proportion. The chosen period is 2013 to 2014 and the monthly closing prices are collected.\n",
    "\n",
    "Number of stocks: 40\n",
    "Period: 2013 - 2014 \n",
    "Price: monthly closing price\n",
    "Data Source: CSMAR DATABASE\n",
    "\n",
    "\n",
    "### 1. Markowitz model: "
   ]
  },
  {
   "cell_type": "markdown",
   "metadata": {},
   "source": [
    "<img src=\"markowitz_model.JPG\",width=150,height=150>"
   ]
  },
  {
   "cell_type": "markdown",
   "metadata": {},
   "source": [
    "R: required return      \n",
    "x: weight"
   ]
  },
  {
   "cell_type": "markdown",
   "metadata": {},
   "source": [
    "### 2. Parameter Estimiation\n",
    "\n",
    "I estimate the mean vector and covariance matrix of the 40 stocks at the beginning of every time period. Since the future stock return is unknown, we use the past 6-month stock return data to get the mean and variance estimators. \n",
    "For buy and hold approach, I obtain optimal portfolio at the beginning of year 2013, and holding this portfolio till the end of 2014. \n",
    "For rebalancing approach, for every two months started from 2013 I rebalance the weights based on the past 6-month data."
   ]
  },
  {
   "cell_type": "markdown",
   "metadata": {},
   "source": [
    "### 3. Code"
   ]
  },
  {
   "cell_type": "code",
   "execution_count": 1,
   "metadata": {
    "collapsed": true
   },
   "outputs": [],
   "source": [
    "import numpy as np\n",
    "import pandas as pd\n",
    "from pandas import DataFrame, Series\n",
    "import scipy.optimize as sco\n",
    "import matplotlib.pyplot as plt\n",
    "%matplotlib inline\n",
    "\n",
    "class InputInfo(object):\n",
    "    ''' \n",
    "    \n",
    "    Providing required information to calculate optimization weights\n",
    "    \n",
    "    Attribute\n",
    "    =========\n",
    "    method : string\n",
    "        rebalane('Rebal') or buy and hold('B_H')\n",
    "    opt_len : integer\n",
    "        length of time to estimate optimized weights(month)\n",
    "    reb_freq : integer\n",
    "        length of time to rebalance(month)\n",
    "    stockdata : DataFrame\n",
    "        information of stock price\n",
    "        \n",
    "    Methods\n",
    "    =======\n",
    "    stockrets : \n",
    "        calculates stock log return \n",
    "    estimated_periods :\n",
    "        divide the stock return dataframe into rolling length periods with \n",
    "        same length to estimate the optimized weights\n",
    "    realized_periods :\n",
    "        divide the stock return dataframe in to rebalance length of periods for \n",
    "        estimating the realized return based on the weights calculated \n",
    "        from previous periods\n",
    "    gen_time_grid :\n",
    "        returns the time grid for realizatio \n",
    "    get_stockrets :\n",
    "        returns the stock returns dataframe\n",
    "    get_esti_periods : \n",
    "        returns the estimated periods\n",
    "    get_real_periods :\n",
    "        returns the real periods  \n",
    "\n",
    "    '''\n",
    "    \n",
    "    def __init__(self, method, opt_len, reb_freq, stockdata):\n",
    "        self.method = method\n",
    "        self.opt_len = opt_len\n",
    "        self.reb_freq = reb_freq\n",
    "        self.stockdata = stockdata\n",
    "        # number of stocks\n",
    "        self.stocknum = len(stockdata.columns)\n",
    "    \n",
    "    def stockrets(self):       \n",
    "        self.stockret = np.log(self.stockdata / self.stockdata.shift(1)) \n",
    "                \n",
    "    def estimated_periods(self):\n",
    "        self.stockrets()\n",
    "        self.esti_periods = []\n",
    "\n",
    "        if self.method == 'B_H':\n",
    "            # for buy and hold method, the estimated periods are all the same\n",
    "            # which is the first estimated period\n",
    "            repete_num = (len(self.stockdata.index) -1 - self.opt_len)/self.reb_freq \\\n",
    "                            + (len(self.stockdata.index) -1 - self.opt_len)%self.reb_freq\n",
    "            i = 1\n",
    "            esti_periods = self.stockret[i:(i+self.opt_len)]\n",
    "            for j in range(repete_num):\n",
    "                self.esti_periods.append(esti_periods)\n",
    "        \n",
    "        if self.method == 'Rebal':\n",
    "            # for rebalance method, the estimated periods are rolling period\n",
    "            # if the last period length is less than the rebalance length\n",
    "            # then stop\n",
    "            i = 1\n",
    "            while i < (len(self.stockdata)-1):\n",
    "                self.esti_periods.append(self.stockret[i:(i+self.opt_len)])\n",
    "                if len(self.stockdata)-(i+self.opt_len-1)-1 <= self.reb_freq:\n",
    "                    break\n",
    "                else:\n",
    "                    i += self.reb_freq        \n",
    "\n",
    "    def realized_periods(self):\n",
    "        # realizatio periods start from the month after the first estimated \n",
    "        # month; if the last period length is less the realization length,\n",
    "        # still append it\n",
    "        self.stockrets()\n",
    "        self.real_periods = []\n",
    "        i = self.opt_len + 1\n",
    "        while i < (len(self.stockdata)-1):\n",
    "            self.real_periods.append(self.stockret[i:(i+self.reb_freq)])\n",
    "            if len(self.stockdata)-(i+self.reb_freq-1)-1 <= self.reb_freq:\n",
    "                self.real_periods.append(self.stockret[(i+self.reb_freq):])\n",
    "                break\n",
    "            else:\n",
    "                i += self.reb_freq\n",
    "                \n",
    "    def gen_time_grid(self):\n",
    "        # time grid starts from the realization periods\n",
    "        i = self.opt_len + self.reb_freq\n",
    "        time_grid = []\n",
    "        while i <= len(self.stockdata):\n",
    "            time_grid.append(self.stockdata.index[i])\n",
    "            i += self.reb_freq\n",
    "            if i >= len(self.stockdata.index):\n",
    "                # append the last period even if it is less than the \n",
    "                # realization length\n",
    "                time_grid.append(self.stockdata.index[-1])\n",
    "                break\n",
    "\n",
    "        return time_grid\n",
    "            \n",
    "    def get_stockrets(self):\n",
    "        return self.stockret\n",
    "        \n",
    "    def get_esti_periods(self):\n",
    "        self.estimated_periods()\n",
    "        return self.esti_periods\n",
    "        \n",
    "    def get_real_periods(self):\n",
    "        self.realized_periods()\n",
    "        return self.real_periods\n",
    "                    \n",
    "\n",
    "    \n",
    "class OptimizeMethod(object):\n",
    "    ''' \n",
    "    \n",
    "    Calculating the optimized weight using Markowitz method and calculating \n",
    "        the portfolio returns\n",
    "    \n",
    "    Attribute\n",
    "    =========\n",
    "    inputinfo : class\n",
    "        required information from InputInfo class\n",
    "        \n",
    "    Methods\n",
    "    =======\n",
    "    marko_weight :  \n",
    "        returns the optimized weights under Markowitz minimization of \n",
    "        portfolio risks\n",
    "    get_port_ret :\n",
    "        returns portfolio returns over different realization periods\n",
    "    get_opti_weights : \n",
    "        returns optimized weights\n",
    "\n",
    "    '''   \n",
    "    def __init__(self, inputinfo):\n",
    "        self.stockret = inputinfo.stockret\n",
    "        self.estiperiod = inputinfo.esti_periods\n",
    "        self.realperiod = inputinfo.real_periods\n",
    "        self.stocknum = inputinfo.stocknum\n",
    "          \n",
    "    def marko_weight(self, reqret, diver): \n",
    "        # takes the requirement return and diversification proportion on each\n",
    "        # industry as parameters\n",
    "        self.opti_weightlist = []\n",
    "        # use to save every optimization results\n",
    "        opti = []\n",
    "        for i in range(len(self.estiperiod)):\n",
    "            def min_func_sharpe(x):\n",
    "                # objected function\n",
    "                x = np.array(x)\n",
    "                pret = np.sum(self.estiperiod[i].mean() * x) \n",
    "                pvol = np.sqrt(np.dot(x.T, np.dot(self.estiperiod[i].cov() , x)))\n",
    "                stat_array = np.array([pret, pvol, pret/pvol])\n",
    "                return stat_array[1]\n",
    "            # constraints for optimization\n",
    "            # total sum of weight should equal to 1\n",
    "            # proportion of investing in each industry should be less than \n",
    "            # diver(e.g., 0.5)\n",
    "            cons = ({'type': 'eq', 'fun': lambda x: np.sum(x) - 1},\n",
    "                    {'type': 'ineq', 'fun': lambda x: \\\n",
    "                     np.sum(self.estiperiod[i].mean() * x) * 12 - reqret},\n",
    "                    {'type': 'ineq', 'fun': lambda x: diver - np.sum(x[:7])},\n",
    "                    {'type': 'ineq', 'fun': lambda x: diver - np.sum(x[7:11])},\n",
    "                    {'type': 'ineq', 'fun': lambda x: diver - np.sum(x[11:18])},\n",
    "                    {'type': 'ineq', 'fun': lambda x: diver - np.sum(x[18:20])},\n",
    "                    {'type': 'ineq', 'fun': lambda x: diver - np.sum(x[20:39])},\n",
    "                    {'type': 'ineq', 'fun': lambda x: diver - np.sum(x[-1])})\n",
    "            # bounds for optimization: each weight is between 0 and 1\n",
    "            bnds = tuple((0,1) for x in range(self.stocknum))\n",
    "            optivalue = sco.minimize(min_func_sharpe, self.stocknum * [1./self.stocknum,],\\\n",
    "                                        method = 'SLSQP', constraints = cons,\\\n",
    "                                        bounds = bnds) \n",
    "            opti.append(optivalue)\n",
    "            # append the optimization results in which 'x' shows the weights\n",
    "            self.opti_weightlist.append(opti[i]['x'])\n",
    "\n",
    "    def get_port_ret(self):\n",
    "        self.pret = []       \n",
    "        for i in range(len(self.opti_weightlist)): \n",
    "            self.pret.append(np.sum(self.realperiod[i].mean() * \n",
    "                               self.opti_weightlist[i]) )\n",
    "        return self.pret\n",
    "    \n",
    "    def get_opti_weights(self, reqreturn, diver_fac):\n",
    "        self.marko_weight(reqret=reqreturn, diver=diver_fac)\n",
    "        return self.opti_weightlist\n",
    "\n"
   ]
  },
  {
   "cell_type": "markdown",
   "metadata": {},
   "source": [
    "### 4. Realization"
   ]
  },
  {
   "cell_type": "markdown",
   "metadata": {},
   "source": [
    "#### 4.1 Stock Data and Parameters"
   ]
  },
  {
   "cell_type": "code",
   "execution_count": 2,
   "metadata": {
    "collapsed": false
   },
   "outputs": [
    {
     "data": {
      "text/html": [
       "<div>\n",
       "<table border=\"1\" class=\"dataframe\">\n",
       "  <thead>\n",
       "    <tr style=\"text-align: right;\">\n",
       "      <th></th>\n",
       "      <th>600109</th>\n",
       "      <th>600643</th>\n",
       "      <th>601901</th>\n",
       "      <th>601555</th>\n",
       "      <th>600837</th>\n",
       "      <th>600030</th>\n",
       "      <th>600016</th>\n",
       "      <th>600637</th>\n",
       "      <th>600804</th>\n",
       "      <th>600633</th>\n",
       "      <th>...</th>\n",
       "      <th>600300</th>\n",
       "      <th>600887</th>\n",
       "      <th>600315</th>\n",
       "      <th>600085</th>\n",
       "      <th>600418</th>\n",
       "      <th>600518</th>\n",
       "      <th>600535</th>\n",
       "      <th>600583</th>\n",
       "      <th>600276</th>\n",
       "      <th>600759</th>\n",
       "    </tr>\n",
       "    <tr>\n",
       "      <th>Trdmnt</th>\n",
       "      <th></th>\n",
       "      <th></th>\n",
       "      <th></th>\n",
       "      <th></th>\n",
       "      <th></th>\n",
       "      <th></th>\n",
       "      <th></th>\n",
       "      <th></th>\n",
       "      <th></th>\n",
       "      <th></th>\n",
       "      <th></th>\n",
       "      <th></th>\n",
       "      <th></th>\n",
       "      <th></th>\n",
       "      <th></th>\n",
       "      <th></th>\n",
       "      <th></th>\n",
       "      <th></th>\n",
       "      <th></th>\n",
       "      <th></th>\n",
       "      <th></th>\n",
       "    </tr>\n",
       "  </thead>\n",
       "  <tbody>\n",
       "    <tr>\n",
       "      <th>2012-02</th>\n",
       "      <td>10.24</td>\n",
       "      <td>6.29</td>\n",
       "      <td>4.38</td>\n",
       "      <td>6.73</td>\n",
       "      <td>8.34</td>\n",
       "      <td>10.66</td>\n",
       "      <td>6.39</td>\n",
       "      <td>11.54</td>\n",
       "      <td>5.46</td>\n",
       "      <td>13.89</td>\n",
       "      <td>...</td>\n",
       "      <td>3.91</td>\n",
       "      <td>20.50</td>\n",
       "      <td>30.72</td>\n",
       "      <td>13.77</td>\n",
       "      <td>6.05</td>\n",
       "      <td>11.94</td>\n",
       "      <td>36.74</td>\n",
       "      <td>5.69</td>\n",
       "      <td>26.06</td>\n",
       "      <td>6.03</td>\n",
       "    </tr>\n",
       "    <tr>\n",
       "      <th>2012-03</th>\n",
       "      <td>11.06</td>\n",
       "      <td>7.20</td>\n",
       "      <td>4.77</td>\n",
       "      <td>8.28</td>\n",
       "      <td>8.91</td>\n",
       "      <td>11.72</td>\n",
       "      <td>6.56</td>\n",
       "      <td>16.78</td>\n",
       "      <td>6.50</td>\n",
       "      <td>16.05</td>\n",
       "      <td>...</td>\n",
       "      <td>4.22</td>\n",
       "      <td>22.98</td>\n",
       "      <td>32.35</td>\n",
       "      <td>14.87</td>\n",
       "      <td>7.30</td>\n",
       "      <td>12.70</td>\n",
       "      <td>39.00</td>\n",
       "      <td>6.05</td>\n",
       "      <td>26.88</td>\n",
       "      <td>7.67</td>\n",
       "    </tr>\n",
       "    <tr>\n",
       "      <th>2012-04</th>\n",
       "      <td>11.08</td>\n",
       "      <td>7.41</td>\n",
       "      <td>4.20</td>\n",
       "      <td>7.16</td>\n",
       "      <td>8.97</td>\n",
       "      <td>11.64</td>\n",
       "      <td>6.21</td>\n",
       "      <td>14.60</td>\n",
       "      <td>6.14</td>\n",
       "      <td>18.14</td>\n",
       "      <td>...</td>\n",
       "      <td>5.86</td>\n",
       "      <td>22.10</td>\n",
       "      <td>31.50</td>\n",
       "      <td>14.19</td>\n",
       "      <td>6.15</td>\n",
       "      <td>12.64</td>\n",
       "      <td>35.70</td>\n",
       "      <td>5.51</td>\n",
       "      <td>26.10</td>\n",
       "      <td>6.23</td>\n",
       "    </tr>\n",
       "    <tr>\n",
       "      <th>2012-05</th>\n",
       "      <td>14.28</td>\n",
       "      <td>9.00</td>\n",
       "      <td>5.49</td>\n",
       "      <td>10.06</td>\n",
       "      <td>10.26</td>\n",
       "      <td>13.40</td>\n",
       "      <td>6.74</td>\n",
       "      <td>14.97</td>\n",
       "      <td>7.12</td>\n",
       "      <td>16.70</td>\n",
       "      <td>...</td>\n",
       "      <td>7.10</td>\n",
       "      <td>22.30</td>\n",
       "      <td>34.18</td>\n",
       "      <td>14.45</td>\n",
       "      <td>6.63</td>\n",
       "      <td>12.27</td>\n",
       "      <td>37.90</td>\n",
       "      <td>6.09</td>\n",
       "      <td>27.25</td>\n",
       "      <td>7.09</td>\n",
       "    </tr>\n",
       "    <tr>\n",
       "      <th>2012-06</th>\n",
       "      <td>15.46</td>\n",
       "      <td>9.33</td>\n",
       "      <td>5.23</td>\n",
       "      <td>9.75</td>\n",
       "      <td>10.47</td>\n",
       "      <td>13.77</td>\n",
       "      <td>6.37</td>\n",
       "      <td>14.56</td>\n",
       "      <td>6.75</td>\n",
       "      <td>15.53</td>\n",
       "      <td>...</td>\n",
       "      <td>9.17</td>\n",
       "      <td>22.48</td>\n",
       "      <td>36.56</td>\n",
       "      <td>15.00</td>\n",
       "      <td>6.66</td>\n",
       "      <td>12.65</td>\n",
       "      <td>38.80</td>\n",
       "      <td>6.16</td>\n",
       "      <td>26.10</td>\n",
       "      <td>5.98</td>\n",
       "    </tr>\n",
       "  </tbody>\n",
       "</table>\n",
       "<p>5 rows × 40 columns</p>\n",
       "</div>"
      ],
      "text/plain": [
       "         600109  600643  601901  601555  600837  600030  600016  600637  \\\n",
       "Trdmnt                                                                    \n",
       "2012-02   10.24    6.29    4.38    6.73    8.34   10.66    6.39   11.54   \n",
       "2012-03   11.06    7.20    4.77    8.28    8.91   11.72    6.56   16.78   \n",
       "2012-04   11.08    7.41    4.20    7.16    8.97   11.64    6.21   14.60   \n",
       "2012-05   14.28    9.00    5.49   10.06   10.26   13.40    6.74   14.97   \n",
       "2012-06   15.46    9.33    5.23    9.75   10.47   13.77    6.37   14.56   \n",
       "\n",
       "         600804  600633   ...    600300  600887  600315  600085  600418  \\\n",
       "Trdmnt                    ...                                             \n",
       "2012-02    5.46   13.89   ...      3.91   20.50   30.72   13.77    6.05   \n",
       "2012-03    6.50   16.05   ...      4.22   22.98   32.35   14.87    7.30   \n",
       "2012-04    6.14   18.14   ...      5.86   22.10   31.50   14.19    6.15   \n",
       "2012-05    7.12   16.70   ...      7.10   22.30   34.18   14.45    6.63   \n",
       "2012-06    6.75   15.53   ...      9.17   22.48   36.56   15.00    6.66   \n",
       "\n",
       "         600518  600535  600583  600276  600759  \n",
       "Trdmnt                                           \n",
       "2012-02   11.94   36.74    5.69   26.06    6.03  \n",
       "2012-03   12.70   39.00    6.05   26.88    7.67  \n",
       "2012-04   12.64   35.70    5.51   26.10    6.23  \n",
       "2012-05   12.27   37.90    6.09   27.25    7.09  \n",
       "2012-06   12.65   38.80    6.16   26.10    5.98  \n",
       "\n",
       "[5 rows x 40 columns]"
      ]
     },
     "execution_count": 2,
     "metadata": {},
     "output_type": "execute_result"
    }
   ],
   "source": [
    "# import stock data\n",
    "stockdata = pd.read_csv('forty_stock.csv', index_col='Trdmnt')\n",
    "\n",
    "# using forward fill method to fill the null value\n",
    "stockdata1 = stockdata.fillna(method='ffill')\n",
    "\n",
    "stockdata1.head()"
   ]
  },
  {
   "cell_type": "code",
   "execution_count": 3,
   "metadata": {
    "collapsed": true
   },
   "outputs": [],
   "source": [
    "# estimate period and realized_period\n",
    "estimate_period = 6\n",
    "realized_period = 2\n",
    "\n",
    "# required return and diversification constraints\n",
    "req_return = 0.01\n",
    "diver = 0.5"
   ]
  },
  {
   "cell_type": "markdown",
   "metadata": {},
   "source": [
    "#### 4.2 Rebalance Method"
   ]
  },
  {
   "cell_type": "code",
   "execution_count": 4,
   "metadata": {
    "collapsed": true
   },
   "outputs": [],
   "source": [
    "rebal = InputInfo('Rebal',estimate_period,realized_period,stockdata1)"
   ]
  },
  {
   "cell_type": "code",
   "execution_count": 5,
   "metadata": {
    "collapsed": false
   },
   "outputs": [
    {
     "data": {
      "text/plain": [
       "[           600109    600643    601901    601555    600837    600030    600016  \\\n",
       " Trdmnt                                                                          \n",
       " 2012-03  0.077033  0.135120  0.085298  0.207268  0.066111  0.094798  0.026256   \n",
       " 2012-04  0.001807  0.028749 -0.127262 -0.145333  0.006711 -0.006849 -0.054830   \n",
       " 2012-05  0.253718  0.194394  0.267844  0.340057  0.134367  0.140807  0.081899   \n",
       " 2012-06  0.079396  0.036010 -0.048517 -0.031300  0.020261  0.027238 -0.056460   \n",
       " 2012-07 -0.067562 -0.116980 -0.031070 -0.104791 -0.077420 -0.088002 -0.058175   \n",
       " 2012-08 -0.226610 -0.040571 -0.130437 -0.065906 -0.008290 -0.028964  0.000000   \n",
       " \n",
       "            600637    600804    600633    ...       600300    600887    600315  \\\n",
       " Trdmnt                                   ...                                    \n",
       " 2012-03  0.374368  0.174353  0.144540    ...     0.076298  0.114199  0.051700   \n",
       " 2012-04 -0.139166 -0.056977  0.122411    ...     0.328314 -0.039047 -0.026626   \n",
       " 2012-05  0.025027  0.148083 -0.082711    ...     0.191945  0.009009  0.081653   \n",
       " 2012-06 -0.027770 -0.053365 -0.072635    ...     0.255843  0.008039  0.067314   \n",
       " 2012-07 -0.099578 -0.126151 -0.038062    ...     0.046867 -0.083943  0.054557   \n",
       " 2012-08  0.061784 -0.003367 -0.064940    ...    -0.211248 -0.094827  0.102092   \n",
       " \n",
       "            600085    600418    600518    600535    600583    600276    600759  \n",
       " Trdmnt                                                                         \n",
       " 2012-03  0.076853  0.187816  0.061708  0.059696  0.061348  0.030981  0.240570  \n",
       " 2012-04 -0.046808 -0.171422 -0.004736 -0.088411 -0.093494 -0.029447 -0.207940  \n",
       " 2012-05  0.018157  0.075153 -0.029709  0.059800  0.100083  0.043118  0.129309  \n",
       " 2012-06  0.037356  0.004515  0.030500  0.023469  0.011429 -0.043118 -0.170265  \n",
       " 2012-07  0.154151 -0.213431  0.198008  0.120757 -0.009788  0.089021 -0.072822  \n",
       " 2012-08 -0.017291 -0.139390 -0.036992  0.049464 -0.043558  0.002800 -0.280514  \n",
       " \n",
       " [6 rows x 40 columns]]"
      ]
     },
     "execution_count": 5,
     "metadata": {},
     "output_type": "execute_result"
    }
   ],
   "source": [
    "# the estimated periods for rebalance method\n",
    "rebal.get_esti_periods()[0:1]"
   ]
  },
  {
   "cell_type": "code",
   "execution_count": 6,
   "metadata": {
    "collapsed": false
   },
   "outputs": [
    {
     "data": {
      "text/plain": [
       "[           600109    600643    601901    601555    600837    600030    600016  \\\n",
       " Trdmnt                                                                          \n",
       " 2012-09  0.011222 -0.025414 -0.089261 -0.145068 -0.159890 -0.188052 -0.030408   \n",
       " 2012-10  0.265331 -0.002577  0.052644  0.170295  0.156764  0.149778 -0.034908   \n",
       " \n",
       "            600637    600804    600633    ...       600300    600887    600315  \\\n",
       " Trdmnt                                   ...                                    \n",
       " 2012-09  0.074210  0.003367  0.037820    ...    -0.131697  0.068354  0.050170   \n",
       " 2012-10  0.069699  0.091483  0.025782    ...     0.081621  0.055086  0.044374   \n",
       " \n",
       "            600085    600418    600518    600535    600583    600276    600759  \n",
       " Trdmnt                                                                         \n",
       " 2012-09 -0.021152 -0.066249 -0.017652  0.067252 -0.045542  0.051101  0.030483  \n",
       " 2012-10  0.025793  0.152192  0.078988  0.043745 -0.009001  0.006290  0.092577  \n",
       " \n",
       " [2 rows x 40 columns]]"
      ]
     },
     "execution_count": 6,
     "metadata": {},
     "output_type": "execute_result"
    }
   ],
   "source": [
    "# the realization periods for rebalance method\n",
    "rebal.get_real_periods()[0:1]"
   ]
  },
  {
   "cell_type": "code",
   "execution_count": 7,
   "metadata": {
    "collapsed": false
   },
   "outputs": [],
   "source": [
    "rebal_opt = OptimizeMethod(rebal)\n",
    "\n",
    "# optimized weights for rebalance method\n",
    "weight_rebal = rebal_opt.get_opti_weights(req_return, diver)"
   ]
  },
  {
   "cell_type": "code",
   "execution_count": 8,
   "metadata": {
    "collapsed": false
   },
   "outputs": [
    {
     "data": {
      "text/plain": [
       "[array([  4.83284769e-17,   9.81325332e-18,   9.20238351e-17,\n",
       "          2.66670597e-18,   0.00000000e+00,   3.18774988e-17,\n",
       "          3.84664761e-16,   1.85808034e-02,   1.09021961e-16,\n",
       "          3.24213421e-01,   1.28238512e-16,   1.58606606e-18,\n",
       "          0.00000000e+00,   0.00000000e+00,   0.00000000e+00,\n",
       "          1.57205775e-01,   0.00000000e+00,   1.04872638e-17,\n",
       "          1.61771114e-16,   0.00000000e+00,   1.20774431e-01,\n",
       "          7.64316881e-17,   0.00000000e+00,   1.45525446e-17,\n",
       "          9.10762872e-18,   0.00000000e+00,   0.00000000e+00,\n",
       "          0.00000000e+00,   3.12890498e-17,   0.00000000e+00,\n",
       "          0.00000000e+00,   0.00000000e+00,   3.48327027e-01,\n",
       "          0.00000000e+00,   9.90435702e-18,   1.74782954e-16,\n",
       "          3.08985419e-02,   4.72717743e-18,   0.00000000e+00,\n",
       "          1.68787165e-17]),\n",
       " array([  0.00000000e+00,   3.07119140e-17,   1.16237397e-16,\n",
       "          7.70248925e-17,   1.30253408e-16,   1.21793249e-16,\n",
       "          1.87982273e-01,   0.00000000e+00,   0.00000000e+00,\n",
       "          3.12017727e-01,   0.00000000e+00,   0.00000000e+00,\n",
       "          8.12482002e-17,   0.00000000e+00,   1.92621733e-17,\n",
       "          0.00000000e+00,   5.14553992e-18,   0.00000000e+00,\n",
       "          0.00000000e+00,   0.00000000e+00,   3.47952417e-02,\n",
       "          1.37502154e-16,   4.17083107e-18,   2.21344740e-16,\n",
       "          0.00000000e+00,   3.16516165e-02,   7.02880614e-17,\n",
       "          0.00000000e+00,   0.00000000e+00,   1.57576736e-16,\n",
       "          0.00000000e+00,   0.00000000e+00,   3.45480756e-01,\n",
       "          0.00000000e+00,   5.78695129e-17,   8.80723861e-02,\n",
       "          8.92053392e-16,   1.80179194e-17,   0.00000000e+00,\n",
       "          6.38395289e-17])]"
      ]
     },
     "execution_count": 8,
     "metadata": {},
     "output_type": "execute_result"
    }
   ],
   "source": [
    "weight_rebal[0:2]"
   ]
  },
  {
   "cell_type": "code",
   "execution_count": 9,
   "metadata": {
    "collapsed": true
   },
   "outputs": [],
   "source": [
    "# portfolio return for the realization periods\n",
    "port_ret_rebal = rebal_opt.get_port_ret()"
   ]
  },
  {
   "cell_type": "code",
   "execution_count": 10,
   "metadata": {
    "collapsed": false
   },
   "outputs": [
    {
     "data": {
      "text/plain": [
       "[0.02218096886222644,\n",
       " -0.04040353767369374,\n",
       " 0.1447991314193075,\n",
       " -0.004907833953748835,\n",
       " 0.12198324191645814,\n",
       " 0.051019752366384716,\n",
       " 0.1249138150971342,\n",
       " -0.04174299770678517,\n",
       " -0.0247290117569027,\n",
       " -0.01430637720657735,\n",
       " -0.0009888993407382671,\n",
       " 0.025350925253278866,\n",
       " 0.04585144326138431,\n",
       " 0.02736938472370824,\n",
       " 0.04154174455267907]"
      ]
     },
     "execution_count": 10,
     "metadata": {},
     "output_type": "execute_result"
    }
   ],
   "source": [
    "port_ret_rebal"
   ]
  },
  {
   "cell_type": "code",
   "execution_count": 11,
   "metadata": {
    "collapsed": false
   },
   "outputs": [
    {
     "data": {
      "image/png": "[encoded data removed]",
      "text/plain": [
       "<matplotlib.figure.Figure at 0xad16550>"
      ]
     },
     "metadata": {},
     "output_type": "display_data"
    }
   ],
   "source": [
    "# plot of the rebalance method return\n",
    "timegrid= rebal.gen_time_grid()\n",
    "\n",
    "x = np.array(range(15))\n",
    "y_rebal = np.array(port_ret_rebal)\n",
    "my_xticks = timegrid\n",
    "plt.xticks(x, my_xticks,rotation=60)\n",
    "plt.plot(x, y_rebal,color='r')\n",
    "plt.title('Rebalance Approach')\n",
    "plt.ylabel('Return')\n",
    "plt.xlabel('Time')\n",
    "plt.grid()\n",
    "plt.gca().set_ylim([-0.20,0.25])\n",
    "plt.show()"
   ]
  },
  {
   "cell_type": "markdown",
   "metadata": {},
   "source": [
    "#### 4.3 Buy-and-Hold Method"
   ]
  },
  {
   "cell_type": "code",
   "execution_count": 12,
   "metadata": {
    "collapsed": false
   },
   "outputs": [
    {
     "data": {
      "text/plain": [
       "[           600109    600643    601901    601555    600837    600030    600016  \\\n",
       " Trdmnt                                                                          \n",
       " 2012-03  0.077033  0.135120  0.085298  0.207268  0.066111  0.094798  0.026256   \n",
       " 2012-04  0.001807  0.028749 -0.127262 -0.145333  0.006711 -0.006849 -0.054830   \n",
       " 2012-05  0.253718  0.194394  0.267844  0.340057  0.134367  0.140807  0.081899   \n",
       " 2012-06  0.079396  0.036010 -0.048517 -0.031300  0.020261  0.027238 -0.056460   \n",
       " 2012-07 -0.067562 -0.116980 -0.031070 -0.104791 -0.077420 -0.088002 -0.058175   \n",
       " 2012-08 -0.226610 -0.040571 -0.130437 -0.065906 -0.008290 -0.028964  0.000000   \n",
       " \n",
       "            600637    600804    600633    ...       600300    600887    600315  \\\n",
       " Trdmnt                                   ...                                    \n",
       " 2012-03  0.374368  0.174353  0.144540    ...     0.076298  0.114199  0.051700   \n",
       " 2012-04 -0.139166 -0.056977  0.122411    ...     0.328314 -0.039047 -0.026626   \n",
       " 2012-05  0.025027  0.148083 -0.082711    ...     0.191945  0.009009  0.081653   \n",
       " 2012-06 -0.027770 -0.053365 -0.072635    ...     0.255843  0.008039  0.067314   \n",
       " 2012-07 -0.099578 -0.126151 -0.038062    ...     0.046867 -0.083943  0.054557   \n",
       " 2012-08  0.061784 -0.003367 -0.064940    ...    -0.211248 -0.094827  0.102092   \n",
       " \n",
       "            600085    600418    600518    600535    600583    600276    600759  \n",
       " Trdmnt                                                                         \n",
       " 2012-03  0.076853  0.187816  0.061708  0.059696  0.061348  0.030981  0.240570  \n",
       " 2012-04 -0.046808 -0.171422 -0.004736 -0.088411 -0.093494 -0.029447 -0.207940  \n",
       " 2012-05  0.018157  0.075153 -0.029709  0.059800  0.100083  0.043118  0.129309  \n",
       " 2012-06  0.037356  0.004515  0.030500  0.023469  0.011429 -0.043118 -0.170265  \n",
       " 2012-07  0.154151 -0.213431  0.198008  0.120757 -0.009788  0.089021 -0.072822  \n",
       " 2012-08 -0.017291 -0.139390 -0.036992  0.049464 -0.043558  0.002800 -0.280514  \n",
       " \n",
       " [6 rows x 40 columns]]"
      ]
     },
     "execution_count": 12,
     "metadata": {},
     "output_type": "execute_result"
    }
   ],
   "source": [
    "bh = InputInfo('B_H',estimate_period,realized_period,stockdata1)\n",
    "\n",
    "# the estimated periods for buy and hold method\n",
    "bh.get_esti_periods()[0:1]"
   ]
  },
  {
   "cell_type": "code",
   "execution_count": 13,
   "metadata": {
    "collapsed": false
   },
   "outputs": [
    {
     "data": {
      "text/plain": [
       "[           600109    600643    601901    601555    600837    600030    600016  \\\n",
       " Trdmnt                                                                          \n",
       " 2012-09  0.011222 -0.025414 -0.089261 -0.145068 -0.159890 -0.188052 -0.030408   \n",
       " 2012-10  0.265331 -0.002577  0.052644  0.170295  0.156764  0.149778 -0.034908   \n",
       " \n",
       "            600637    600804    600633    ...       600300    600887    600315  \\\n",
       " Trdmnt                                   ...                                    \n",
       " 2012-09  0.074210  0.003367  0.037820    ...    -0.131697  0.068354  0.050170   \n",
       " 2012-10  0.069699  0.091483  0.025782    ...     0.081621  0.055086  0.044374   \n",
       " \n",
       "            600085    600418    600518    600535    600583    600276    600759  \n",
       " Trdmnt                                                                         \n",
       " 2012-09 -0.021152 -0.066249 -0.017652  0.067252 -0.045542  0.051101  0.030483  \n",
       " 2012-10  0.025793  0.152192  0.078988  0.043745 -0.009001  0.006290  0.092577  \n",
       " \n",
       " [2 rows x 40 columns]]"
      ]
     },
     "execution_count": 13,
     "metadata": {},
     "output_type": "execute_result"
    }
   ],
   "source": [
    "# the realization periods for buy and hold method\n",
    "bh.get_real_periods()[0:1]"
   ]
  },
  {
   "cell_type": "code",
   "execution_count": 14,
   "metadata": {
    "collapsed": true
   },
   "outputs": [],
   "source": [
    "bh_opt = OptimizeMethod(bh)\n",
    "\n",
    "# optimized weights for buy and hold method\n",
    "weight_bh = bh_opt.get_opti_weights(req_return, diver)"
   ]
  },
  {
   "cell_type": "code",
   "execution_count": 15,
   "metadata": {
    "collapsed": false
   },
   "outputs": [
    {
     "data": {
      "text/plain": [
       "[array([  4.83284769e-17,   9.81325332e-18,   9.20238351e-17,\n",
       "          2.66670597e-18,   0.00000000e+00,   3.18774988e-17,\n",
       "          3.84664761e-16,   1.85808034e-02,   1.09021961e-16,\n",
       "          3.24213421e-01,   1.28238512e-16,   1.58606606e-18,\n",
       "          0.00000000e+00,   0.00000000e+00,   0.00000000e+00,\n",
       "          1.57205775e-01,   0.00000000e+00,   1.04872638e-17,\n",
       "          1.61771114e-16,   0.00000000e+00,   1.20774431e-01,\n",
       "          7.64316881e-17,   0.00000000e+00,   1.45525446e-17,\n",
       "          9.10762872e-18,   0.00000000e+00,   0.00000000e+00,\n",
       "          0.00000000e+00,   3.12890498e-17,   0.00000000e+00,\n",
       "          0.00000000e+00,   0.00000000e+00,   3.48327027e-01,\n",
       "          0.00000000e+00,   9.90435702e-18,   1.74782954e-16,\n",
       "          3.08985419e-02,   4.72717743e-18,   0.00000000e+00,\n",
       "          1.68787165e-17]),\n",
       " array([  4.83284769e-17,   9.81325332e-18,   9.20238351e-17,\n",
       "          2.66670597e-18,   0.00000000e+00,   3.18774988e-17,\n",
       "          3.84664761e-16,   1.85808034e-02,   1.09021961e-16,\n",
       "          3.24213421e-01,   1.28238512e-16,   1.58606606e-18,\n",
       "          0.00000000e+00,   0.00000000e+00,   0.00000000e+00,\n",
       "          1.57205775e-01,   0.00000000e+00,   1.04872638e-17,\n",
       "          1.61771114e-16,   0.00000000e+00,   1.20774431e-01,\n",
       "          7.64316881e-17,   0.00000000e+00,   1.45525446e-17,\n",
       "          9.10762872e-18,   0.00000000e+00,   0.00000000e+00,\n",
       "          0.00000000e+00,   3.12890498e-17,   0.00000000e+00,\n",
       "          0.00000000e+00,   0.00000000e+00,   3.48327027e-01,\n",
       "          0.00000000e+00,   9.90435702e-18,   1.74782954e-16,\n",
       "          3.08985419e-02,   4.72717743e-18,   0.00000000e+00,\n",
       "          1.68787165e-17])]"
      ]
     },
     "execution_count": 15,
     "metadata": {},
     "output_type": "execute_result"
    }
   ],
   "source": [
    "weight_bh[0:2]"
   ]
  },
  {
   "cell_type": "code",
   "execution_count": 16,
   "metadata": {
    "collapsed": false
   },
   "outputs": [
    {
     "data": {
      "text/plain": [
       "[0.02218096886222644,\n",
       " -0.0372400796086905,\n",
       " 0.12189517112939095,\n",
       " 0.04421004734333461,\n",
       " -0.03501452138383173,\n",
       " 0.10523927987715068,\n",
       " 0.06774902399205746,\n",
       " -0.1194074242972782,\n",
       " -0.00911804745449721,\n",
       " -0.047695705947541384,\n",
       " -0.12909195246374777,\n",
       " 0.015175003613887236,\n",
       " 0.07580441391363699,\n",
       " -0.0022831469215898333,\n",
       " 0.05786646635935191]"
      ]
     },
     "execution_count": 16,
     "metadata": {},
     "output_type": "execute_result"
    }
   ],
   "source": [
    "# portfolio return for the realization periods\n",
    "port_ret_bh = bh_opt.get_port_ret()\n",
    "\n",
    "port_ret_bh"
   ]
  },
  {
   "cell_type": "code",
   "execution_count": 17,
   "metadata": {
    "collapsed": false
   },
   "outputs": [
    {
     "data": {
      "image/png": "[encoded data removed]",
      "text/plain": [
       "<matplotlib.figure.Figure at 0xaba5860>"
      ]
     },
     "metadata": {},
     "output_type": "display_data"
    }
   ],
   "source": [
    "# plot of the buy and hold method return\n",
    "\n",
    "x = np.array(range(15))\n",
    "y_bh = np.array(port_ret_bh)\n",
    "my_xticks = timegrid\n",
    "plt.xticks(x, my_xticks,rotation=60)\n",
    "plt.plot(x, y_bh,color='b')\n",
    "plt.title('Buy and Hold Approach ')\n",
    "plt.ylabel('Return')\n",
    "plt.xlabel('Time')\n",
    "plt.grid()\n",
    "plt.gca().set_ylim([-0.20,0.25])\n",
    "plt.show()"
   ]
  },
  {
   "cell_type": "markdown",
   "metadata": {},
   "source": [
    "#### 4.4 Comparison and Conclusion"
   ]
  },
  {
   "cell_type": "code",
   "execution_count": 18,
   "metadata": {
    "collapsed": false
   },
   "outputs": [
    {
     "data": {
      "image/png": "[encoded data removed]",
      "text/plain": [
       "<matplotlib.figure.Figure at 0xb3cc208>"
      ]
     },
     "metadata": {},
     "output_type": "display_data"
    }
   ],
   "source": [
    "# plot of returns for both method\n",
    "plt.xticks(x, my_xticks,rotation=60)\n",
    "plt.plot(x, y_rebal,color='r',label='Rebalance' )\n",
    "plt.plot(x, y_bh, color='b', label='Buy and Hold')\n",
    "plt.gca().set_ylim([-0.20,0.25])\n",
    "plt.legend()\n",
    "plt.title('Rebalance v.s. Buy and Hold Approach ')\n",
    "plt.ylabel('Return')\n",
    "plt.xlabel('Time')\n",
    "plt.grid()\n",
    "plt.show()"
   ]
  },
  {
   "cell_type": "markdown",
   "metadata": {},
   "source": [
    "From the graph of returns under these two method, we can roughly see that the portfolio performance is overall better under rebalance approach."
   ]
  },
  {
   "cell_type": "code",
   "execution_count": 19,
   "metadata": {
    "collapsed": false
   },
   "outputs": [
    {
     "data": {
      "text/plain": [
       "0.023177483520017049"
      ]
     },
     "execution_count": 19,
     "metadata": {},
     "output_type": "execute_result"
    }
   ],
   "source": [
    "# mean return comparison\n",
    "comparison = ((np.array(port_ret_rebal) - np.array(port_ret_bh))).mean()\n",
    "\n",
    "comparison"
   ]
  },
  {
   "cell_type": "markdown",
   "metadata": {},
   "source": [
    "After calculating the mean return difference between these two approach, the average return under rebalance approach is 2.318% higher than under buy and hold approach.\n",
    "\n",
    "Since the previous six-month history data is used predict later two-month holding proportion, it turns out that the proportion prediction of the portfolio is much closed to the corresponding securities’ realized performance.\n",
    "\n",
    "In conclusion, under Markowitz Portfolio Optimization method, the rebalance approach and buy and hold approach are compared. It turns out that the rebalance approach contributes to better portfolio performance. However, there are still some limitation of this approach since some other constraints have not been considered such as transaction costs."
   ]
  }
 ],
 "metadata": {
  "anaconda-cloud": {},
  "kernelspec": {
   "display_name": "Python [default]",
   "language": "python",
   "name": "python2"
  },
  "language_info": {
   "codemirror_mode": {
    "name": "ipython",
    "version": 2
   },
   "file_extension": ".py",
   "mimetype": "text/x-python",
   "name": "python",
   "nbconvert_exporter": "python",
   "pygments_lexer": "ipython2",
   "version": "2.7.12"
  }
 },
 "nbformat": 4,
 "nbformat_minor": 1
}
